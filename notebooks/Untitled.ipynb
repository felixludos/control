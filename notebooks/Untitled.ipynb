{
 "cells": [
  {
   "cell_type": "code",
   "execution_count": 1,
   "id": "988d976e",
   "metadata": {},
   "outputs": [
    {
     "ename": "ModuleNotFoundError",
     "evalue": "No module named 'omnifig'",
     "output_type": "error",
     "traceback": [
      "\u001b[1;31m---------------------------------------------------------------------------\u001b[0m",
      "\u001b[1;31mModuleNotFoundError\u001b[0m                       Traceback (most recent call last)",
      "\u001b[1;32m<ipython-input-1-110dea2cae1e>\u001b[0m in \u001b[0;36m<module>\u001b[1;34m\u001b[0m\n\u001b[0;32m      9\u001b[0m \u001b[1;31m# %pdb\u001b[0m\u001b[1;33m\u001b[0m\u001b[1;33m\u001b[0m\u001b[1;33m\u001b[0m\u001b[0m\n\u001b[0;32m     10\u001b[0m \u001b[1;32mimport\u001b[0m \u001b[0mcv2\u001b[0m\u001b[1;33m\u001b[0m\u001b[1;33m\u001b[0m\u001b[0m\n\u001b[1;32m---> 11\u001b[1;33m \u001b[1;32mimport\u001b[0m \u001b[0momnifig\u001b[0m \u001b[1;32mas\u001b[0m \u001b[0mfig\u001b[0m\u001b[1;33m\u001b[0m\u001b[1;33m\u001b[0m\u001b[0m\n\u001b[0m\u001b[0;32m     12\u001b[0m \u001b[1;32mimport\u001b[0m \u001b[0mnumpy\u001b[0m \u001b[1;32mas\u001b[0m \u001b[0mnp\u001b[0m\u001b[1;33m\u001b[0m\u001b[1;33m\u001b[0m\u001b[0m\n\u001b[0;32m     13\u001b[0m \u001b[0mnp\u001b[0m\u001b[1;33m.\u001b[0m\u001b[0mset_printoptions\u001b[0m\u001b[1;33m(\u001b[0m\u001b[0mlinewidth\u001b[0m\u001b[1;33m=\u001b[0m\u001b[1;36m120\u001b[0m\u001b[1;33m)\u001b[0m\u001b[1;33m\u001b[0m\u001b[1;33m\u001b[0m\u001b[0m\n",
      "\u001b[1;31mModuleNotFoundError\u001b[0m: No module named 'omnifig'"
     ]
    }
   ],
   "source": [
    "import sys, os, time, shutil, random\n",
    "from pathlib import Path\n",
    "_cwd = os.getcwd()\n",
    "os.chdir(Path(_cwd)/'..')\n",
    "from IPython.core.display import display, HTML\n",
    "# display(HTML(\"<style>.container { width:98% !important; }</style>\"))\n",
    "# %load_ext autoreload\n",
    "# %autoreload 2\n",
    "# %pdb\n",
    "import cv2\n",
    "import omnifig as fig\n",
    "import numpy as np\n",
    "np.set_printoptions(linewidth=120)\n",
    "import pickle\n",
    "from tabulate import tabulate\n",
    "from tqdm.notebook import tqdm\n",
    "import torch\n",
    "from torch import nn\n",
    "import torch.nn.functional as F\n",
    "import torch.distributions as distrib\n",
    "import torch.multiprocessing as mp\n",
    "from torch import optim as opt\n",
    "\n",
    "# import torchvision.models\n",
    "from torch.utils.data import Dataset, DataLoader, TensorDataset\n",
    "import networkx as nx\n",
    "\n",
    "%matplotlib notebook\n",
    "import matplotlib.pyplot as plt\n",
    "#plt.switch_backend('Qt5Agg') #('Qt5Agg')\n",
    "import matplotlib.patches as mpatches\n",
    "import matplotlib.pyplot as plt\n",
    "import matplotlib.cm\n",
    "from matplotlib import animation\n",
    "import matplotlib as mpl\n",
    "# mpl.rc('image', cmap='gray')\n",
    "import seaborn as sns\n",
    "import pandas as pd\n",
    "from sklearn.preprocessing import normalize\n",
    "\n",
    "# import trifinger_simulation\n",
    "from trifinger_simulation import trifinger_platform, sample\n",
    "\n",
    "fig.initialize()\n",
    "\n",
    "import omnilearn as learn\n",
    "from omnilearn import models\n",
    "from omnilearn import util\n",
    "from omnilearn.data import InterventionSamplerBase\n",
    "from omnilearn import viz as viz_util"
   ]
  },
  {
   "cell_type": "code",
   "execution_count": 2,
   "id": "9a2469b1",
   "metadata": {},
   "outputs": [
    {
     "ename": "NameError",
     "evalue": "name 'trifinger_simulation' is not defined",
     "output_type": "error",
     "traceback": [
      "\u001b[1;31m---------------------------------------------------------------------------\u001b[0m",
      "\u001b[1;31mNameError\u001b[0m                                 Traceback (most recent call last)",
      "\u001b[1;32m<ipython-input-2-0706db3648ca>\u001b[0m in \u001b[0;36m<module>\u001b[1;34m\u001b[0m\n\u001b[1;32m----> 1\u001b[1;33m \u001b[0mplatform\u001b[0m \u001b[1;33m=\u001b[0m \u001b[0mtrifinger_simulation\u001b[0m\u001b[1;33m.\u001b[0m\u001b[0mTriFingerPlatform\u001b[0m\u001b[1;33m(\u001b[0m\u001b[0mvisualization\u001b[0m\u001b[1;33m=\u001b[0m\u001b[1;32mTrue\u001b[0m\u001b[1;33m)\u001b[0m\u001b[1;33m\u001b[0m\u001b[1;33m\u001b[0m\u001b[0m\n\u001b[0m",
      "\u001b[1;31mNameError\u001b[0m: name 'trifinger_simulation' is not defined"
     ]
    }
   ],
   "source": [
    "platform = trifinger_simulation.TriFingerPlatform(visualization=True)\n"
   ]
  },
  {
   "cell_type": "code",
   "execution_count": null,
   "id": "2a578644",
   "metadata": {},
   "outputs": [],
   "source": [
    "\n",
    "# Move the fingers to random positions\n",
    "while True:\n",
    "    position = platform.spaces.robot_position.gym.sample()\n",
    "    finger_action = platform.Action(position=position)\n",
    "\n",
    "    # apply action for a few steps, so the fingers can move to the target\n",
    "    # position and stay there for a while\n",
    "    for _ in range(100):\n",
    "        t = platform.append_desired_action(finger_action)\n",
    "        # sleep after each step so that the visualization happens in real\n",
    "        # time\n",
    "        time.sleep(platform.get_time_step())\n",
    "\n",
    "    # show the latest observations\n",
    "    robot_observation = platform.get_robot_observation(t)\n",
    "    print(\"Finger0 Joint Positions: %s\" % robot_observation.position[:3])\n",
    "\n",
    "    # the cube pose is part of the camera observation\n",
    "    camera_observation = platform.get_camera_observation(t)\n",
    "    cube_pose = camera_observation.object_pose\n",
    "    print(\"Cube Position (x, y, z): %s\" % cube_pose.position)"
   ]
  },
  {
   "cell_type": "code",
   "execution_count": null,
   "id": "73b36969",
   "metadata": {},
   "outputs": [],
   "source": []
  },
  {
   "cell_type": "code",
   "execution_count": null,
   "id": "bdace6c6",
   "metadata": {},
   "outputs": [],
   "source": []
  },
  {
   "cell_type": "code",
   "execution_count": null,
   "id": "842bd887",
   "metadata": {},
   "outputs": [],
   "source": []
  },
  {
   "cell_type": "code",
   "execution_count": null,
   "id": "2f95250e",
   "metadata": {},
   "outputs": [],
   "source": []
  }
 ],
 "metadata": {
  "kernelspec": {
   "display_name": "Python 3",
   "language": "python",
   "name": "python3"
  },
  "language_info": {
   "codemirror_mode": {
    "name": "ipython",
    "version": 3
   },
   "file_extension": ".py",
   "mimetype": "text/x-python",
   "name": "python",
   "nbconvert_exporter": "python",
   "pygments_lexer": "ipython3",
   "version": "3.8.5"
  }
 },
 "nbformat": 4,
 "nbformat_minor": 5
}
