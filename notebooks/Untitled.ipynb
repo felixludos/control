{
 "cells": [
  {
   "cell_type": "code",
   "execution_count": 3,
   "id": "988d976e",
   "metadata": {},
   "outputs": [],
   "source": [
    "import sys, os, time, shutil, random, pickle\n",
    "from pathlib import Path\n",
    "_cwd = os.getcwd()\n",
    "os.chdir(Path(_cwd)/'..')\n",
    "from IPython.core.display import display, HTML\n",
    "# display(HTML(\"<style>.container { width:98% !important; }</style>\"))\n",
    "# %load_ext autoreload\n",
    "# %autoreload 2\n",
    "# %pdb\n",
    "import omnifig as fig\n",
    "import h5py as hf\n",
    "import numpy as np\n",
    "np.set_printoptions(linewidth=120)\n",
    "from tabulate import tabulate\n",
    "from tqdm.notebook import tqdm\n",
    "import torch\n",
    "from torch import nn\n",
    "import torch.nn.functional as F\n",
    "import torch.distributions as distrib\n",
    "import torch.multiprocessing as mp\n",
    "from torch import optim as opt\n",
    "from torch.utils.data import Dataset, DataLoader, TensorDataset\n",
    "\n",
    "%matplotlib notebook\n",
    "import matplotlib.pyplot as plt\n",
    "\n",
    "import trifinger_simulation\n",
    "from trifinger_simulation import trifinger_platform, sample\n",
    "\n",
    "fig.initialize()\n",
    "\n",
    "import omnilearn as learn\n",
    "from omnilearn import models\n",
    "from omnilearn import util\n",
    "from omnilearn.data import InterventionSamplerBase\n",
    "from omnilearn import viz as viz_util"
   ]
  },
  {
   "cell_type": "code",
   "execution_count": null,
   "id": "58586f9c",
   "metadata": {},
   "outputs": [],
   "source": []
  },
  {
   "cell_type": "code",
   "execution_count": 4,
   "id": "9a2469b1",
   "metadata": {},
   "outputs": [],
   "source": [
    "platform = trifinger_simulation.TriFingerPlatform(visualization=True)\n"
   ]
  },
  {
   "cell_type": "code",
   "execution_count": 5,
   "id": "2a578644",
   "metadata": {},
   "outputs": [
    {
     "name": "stdout",
     "output_type": "stream",
     "text": [
      "Finger0 Joint Positions: [ 0.1243733   0.64421564 -1.11594181]\n",
      "Cube Position (x, y, z): [0.     0.     0.0325]\n",
      "Finger0 Joint Positions: [ 0.12437352  0.64421534 -1.11594122]\n",
      "Cube Position (x, y, z): [-4.27172987e-18 -5.26066929e-19  3.34897620e-02]\n",
      "Finger0 Joint Positions: [ 0.42489821  0.81377157 -1.50300435]\n",
      "Cube Position (x, y, z): [ 0.0416344  -0.00111306  0.03608894]\n",
      "Finger0 Joint Positions: [ 0.42702009  0.55897947 -1.9701765 ]\n",
      "Cube Position (x, y, z): [0.05106157 0.01325824 0.03460562]\n",
      "Finger0 Joint Positions: [ 0.59038254  0.29310811 -2.02514002]\n",
      "Cube Position (x, y, z): [0.05650392 0.01982474 0.03575518]\n"
     ]
    },
    {
     "ename": "KeyboardInterrupt",
     "evalue": "",
     "output_type": "error",
     "traceback": [
      "\u001b[1;31m---------------------------------------------------------------------------\u001b[0m",
      "\u001b[1;31mKeyboardInterrupt\u001b[0m                         Traceback (most recent call last)",
      "\u001b[1;32m<ipython-input-5-62f420f6481b>\u001b[0m in \u001b[0;36m<module>\u001b[1;34m\u001b[0m\n\u001b[0;32m     10\u001b[0m         \u001b[1;31m# sleep after each step so that the visualization happens in real\u001b[0m\u001b[1;33m\u001b[0m\u001b[1;33m\u001b[0m\u001b[1;33m\u001b[0m\u001b[0m\n\u001b[0;32m     11\u001b[0m         \u001b[1;31m# time\u001b[0m\u001b[1;33m\u001b[0m\u001b[1;33m\u001b[0m\u001b[1;33m\u001b[0m\u001b[0m\n\u001b[1;32m---> 12\u001b[1;33m         \u001b[0mtime\u001b[0m\u001b[1;33m.\u001b[0m\u001b[0msleep\u001b[0m\u001b[1;33m(\u001b[0m\u001b[0mplatform\u001b[0m\u001b[1;33m.\u001b[0m\u001b[0mget_time_step\u001b[0m\u001b[1;33m(\u001b[0m\u001b[1;33m)\u001b[0m\u001b[1;33m)\u001b[0m\u001b[1;33m\u001b[0m\u001b[1;33m\u001b[0m\u001b[0m\n\u001b[0m\u001b[0;32m     13\u001b[0m \u001b[1;33m\u001b[0m\u001b[0m\n\u001b[0;32m     14\u001b[0m     \u001b[1;31m# show the latest observations\u001b[0m\u001b[1;33m\u001b[0m\u001b[1;33m\u001b[0m\u001b[1;33m\u001b[0m\u001b[0m\n",
      "\u001b[1;31mKeyboardInterrupt\u001b[0m: "
     ]
    }
   ],
   "source": [
    "\n",
    "# Move the fingers to random positions\n",
    "while True:\n",
    "    position = platform.spaces.robot_position.gym.sample()\n",
    "    finger_action = platform.Action(position=position)\n",
    "\n",
    "    # apply action for a few steps, so the fingers can move to the target\n",
    "    # position and stay there for a while\n",
    "    for _ in range(100):\n",
    "        t = platform.append_desired_action(finger_action)\n",
    "        # sleep after each step so that the visualization happens in real\n",
    "        # time\n",
    "        time.sleep(platform.get_time_step())\n",
    "\n",
    "    # show the latest observations\n",
    "    robot_observation = platform.get_robot_observation(t)\n",
    "    print(\"Finger0 Joint Positions: %s\" % robot_observation.position[:3])\n",
    "\n",
    "    # the cube pose is part of the camera observation\n",
    "    camera_observation = platform.get_camera_observation(t)\n",
    "    cube_pose = camera_observation.object_pose\n",
    "    print(\"Cube Position (x, y, z): %s\" % cube_pose.position)"
   ]
  },
  {
   "cell_type": "code",
   "execution_count": null,
   "id": "73b36969",
   "metadata": {},
   "outputs": [],
   "source": []
  },
  {
   "cell_type": "code",
   "execution_count": null,
   "id": "bdace6c6",
   "metadata": {},
   "outputs": [],
   "source": []
  },
  {
   "cell_type": "code",
   "execution_count": null,
   "id": "842bd887",
   "metadata": {},
   "outputs": [],
   "source": []
  },
  {
   "cell_type": "code",
   "execution_count": null,
   "id": "2f95250e",
   "metadata": {},
   "outputs": [],
   "source": []
  }
 ],
 "metadata": {
  "kernelspec": {
   "display_name": "Python 3",
   "language": "python",
   "name": "python3"
  },
  "language_info": {
   "codemirror_mode": {
    "name": "ipython",
    "version": 3
   },
   "file_extension": ".py",
   "mimetype": "text/x-python",
   "name": "python",
   "nbconvert_exporter": "python",
   "pygments_lexer": "ipython3",
   "version": "3.8.5"
  }
 },
 "nbformat": 4,
 "nbformat_minor": 5
}
